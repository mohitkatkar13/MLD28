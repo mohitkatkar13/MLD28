{
 "cells": [
  {
   "cell_type": "markdown",
   "metadata": {},
   "source": [
    "### Q. 1.1 Write a Python Program to implement your own myreduce() function which works exactly like Python's built-in function reduce()"
   ]
  },
  {
   "cell_type": "code",
   "execution_count": 66,
   "metadata": {},
   "outputs": [
    {
     "name": "stdout",
     "output_type": "stream",
     "text": [
      "sssfffddd\n",
      "10\n"
     ]
    }
   ],
   "source": [
    "def add(a, b): \n",
    "    return a + b\n",
    "\n",
    "def my_reduce(func, arg):\n",
    "    arg_1 = arg[0]\n",
    "    for i in arg[1:]:\n",
    "        arg_1 = func(arg_1,i)\n",
    "    return arg_1\n",
    "\n",
    "print(my_reduce(add, ['sss','fff','ddd']))\n",
    "print(my_reduce(add, [1,2,3,4]))"
   ]
  },
  {
   "cell_type": "markdown",
   "metadata": {},
   "source": [
    "### Q. 1.2 Write a Python program to implement your own myfilter() function which works exactly like Python's built-in function filter()"
   ]
  },
  {
   "cell_type": "code",
   "execution_count": 67,
   "metadata": {},
   "outputs": [
    {
     "name": "stdout",
     "output_type": "stream",
     "text": [
      "[2, 4, 6, 8, 10]\n",
      "[65, 85, 90, 63, 75]\n"
     ]
    }
   ],
   "source": [
    "def my_filter(func,arg):\n",
    "    s=[]\n",
    "    for i in arg:\n",
    "        if func(i):\n",
    "            s.append(i)\n",
    "    return s\n",
    "\n",
    "def even(m):\n",
    "    if m%2==0 :\n",
    "        return True\n",
    "    else :\n",
    "        return False\n",
    "    \n",
    "def high(n):\n",
    "    if n > 60:\n",
    "        return True\n",
    "    else:\n",
    "        return False\n",
    "\n",
    "\n",
    "\n",
    "seq=[1,2,3,4,5,6,7,8,9,10]\n",
    "seq2=[52,65,85,90,50,45,63,75]\n",
    "    \n",
    "        \n",
    "print(my_filter(even,seq))\n",
    "print(my_filter(high,seq2))"
   ]
  },
  {
   "cell_type": "markdown",
   "metadata": {},
   "source": [
    "### Q. 2 Implement List comprehensions to produce the following lists."
   ]
  },
  {
   "cell_type": "code",
   "execution_count": 68,
   "metadata": {},
   "outputs": [
    {
     "name": "stdout",
     "output_type": "stream",
     "text": [
      "['x', 'xx', 'xxx', 'xxxx', 'y', 'yy', 'yyy', 'yyyy', 'z', 'zz', 'zzz', 'zzzz']\n",
      "\n",
      "['x', 'y', 'z', 'xx', 'yy', 'zz', 'xxx', 'yyy', 'zzz', 'xxxx', 'yyyy', 'zzzz']\n",
      "\n",
      "[[2], [3], [4], [3], [4], [5], [4], [5], [6], [2, 3, 4, 5], [3, 4, 5, 6], [4, 5, 6, 7], [5, 6, 7, 8]]\n",
      "\n",
      "[(1, 1), (1, 2), (1, 3), (2, 1), (2, 2), (2, 3), (3, 1), (3, 2), (3, 3)]\n"
     ]
    }
   ],
   "source": [
    "lst1 =  [i * num for i in [\"x\",\"y\",\"z\"] for num in range(1,5)]\n",
    "print(lst1)\n",
    "print()\n",
    "\n",
    "lst2 = [i * num for num in range(1,5) for i in [\"x\",\"y\",\"z\"]]\n",
    "print(lst2)\n",
    "print()\n",
    "\n",
    "lst3 = [[i+num] for num in range(0,3) for i in [2,3,4]]+[[i+num for i in [2,3,4,5]] for num in range(0,4)]\n",
    "print(lst3)\n",
    "print()\n",
    "\n",
    "lst4 = [(a,b) for a in [1,2,3] for b in [1,2,3]]\n",
    "print(lst4)"
   ]
  },
  {
   "cell_type": "code",
   "execution_count": null,
   "metadata": {},
   "outputs": [],
   "source": []
  }
 ],
 "metadata": {
  "kernelspec": {
   "display_name": "Python 3",
   "language": "python",
   "name": "python3"
  },
  "language_info": {
   "codemirror_mode": {
    "name": "ipython",
    "version": 3
   },
   "file_extension": ".py",
   "mimetype": "text/x-python",
   "name": "python",
   "nbconvert_exporter": "python",
   "pygments_lexer": "ipython3",
   "version": "3.7.4"
  }
 },
 "nbformat": 4,
 "nbformat_minor": 2
}
